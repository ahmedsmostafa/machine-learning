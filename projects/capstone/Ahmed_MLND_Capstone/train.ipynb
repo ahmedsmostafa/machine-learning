{
 "cells": [
  {
   "cell_type": "code",
   "execution_count": 2,
   "metadata": {},
   "outputs": [],
   "source": [
    "import os, sys\n",
    "import _pickle as cPickle\n",
    "import urllib.request\n",
    "\n",
    "import pandas as pd\n",
    "import scipy.misc\n",
    "import numpy as np\n",
    "\n",
    "from keras.models import load_model\n",
    "#from utils import *\n",
    "#from model import image_caption_model\n",
    "from joblib import Parallel, delayed\n",
    "import time\n",
    "from keras.utils.layer_utils import print_summary"
   ]
  },
  {
   "cell_type": "code",
   "execution_count": 3,
   "metadata": {},
   "outputs": [],
   "source": [
    "def count_vocab_occurance(vocab, df):\n",
    "    voc_cnt = {v:0 for v in vocab}\n",
    "    for img_id, row in df.iterrows():\n",
    "        for w in row['caption'].split(' '):\n",
    "            voc_cnt[w] += 1\n",
    "    return voc_cnt"
   ]
  },
  {
   "cell_type": "code",
   "execution_count": 4,
   "metadata": {},
   "outputs": [],
   "source": [
    "def decode(dec_map, ids):\n",
    "    return ' '.join([dec_map[x] for x in ids])"
   ]
  },
  {
   "cell_type": "code",
   "execution_count": 5,
   "metadata": {},
   "outputs": [],
   "source": [
    "def generate_embedding_matrix(w2v_path, dec_map, lang_dim=100):\n",
    "    out_vocab = []\n",
    "    embeddings_index = {}\n",
    "    f = open(w2v_path, 'r', encoding='utf-8')\n",
    "    for line in f:\n",
    "        values = line.split()\n",
    "        word = values[0]\n",
    "        coefs = np.asarray(values[1:], dtype='float32')\n",
    "        embeddings_index[word] = coefs\n",
    "    f.close()\n",
    "    # prepare embedding matrix\n",
    "    embedding_matrix = np.random.rand(len(dec_map), lang_dim)\n",
    "    for idx, wd in dec_map.items():\n",
    "        if wd in embeddings_index.keys():\n",
    "            embedding_matrix[idx] = embeddings_index[wd]\n",
    "        else:\n",
    "            out_vocab.append(wd)\n",
    "    # print('words: \"{}\" not in pre-trained vocabulary list'.format(','.join(out_voca\n",
    "    return embedding_matrix"
   ]
  },
  {
   "cell_type": "code",
   "execution_count": null,
   "metadata": {},
   "outputs": [],
   "source": []
  }
 ],
 "metadata": {
  "kernelspec": {
   "display_name": "Python 3",
   "language": "python",
   "name": "python3"
  },
  "language_info": {
   "codemirror_mode": {
    "name": "ipython",
    "version": 3
   },
   "file_extension": ".py",
   "mimetype": "text/x-python",
   "name": "python",
   "nbconvert_exporter": "python",
   "pygments_lexer": "ipython3",
   "version": "3.5.5"
  }
 },
 "nbformat": 4,
 "nbformat_minor": 2
}
