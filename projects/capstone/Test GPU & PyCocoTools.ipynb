{
 "cells": [
  {
   "cell_type": "code",
   "execution_count": 1,
   "metadata": {},
   "outputs": [],
   "source": [
    "import tensorflow as tf"
   ]
  },
  {
   "cell_type": "code",
   "execution_count": 4,
   "metadata": {},
   "outputs": [
    {
     "name": "stdout",
     "output_type": "stream",
     "text": [
      "249985320000.0\n",
      "\n",
      "\n",
      "\n",
      "Shape: (10000, 10000) Device: /gpu:0\n",
      "Time taken: 0:00:02.652348\n",
      "\n",
      "\n",
      "\n"
     ]
    }
   ],
   "source": [
    "import sys\n",
    "import numpy as np\n",
    "import tensorflow as tf\n",
    "from datetime import datetime\n",
    "\n",
    "device_name=\"/gpu:0\"\n",
    "\n",
    "shape=(int(10000),int(10000))\n",
    "\n",
    "with tf.device(device_name):\n",
    "    random_matrix = tf.random_uniform(shape=shape, minval=0, maxval=1)\n",
    "    dot_operation = tf.matmul(random_matrix, tf.transpose(random_matrix))\n",
    "    sum_operation = tf.reduce_sum(dot_operation)\n",
    "\n",
    "startTime = datetime.now()\n",
    "with tf.Session(config=tf.ConfigProto(log_device_placement=True)) as session:\n",
    "        result = session.run(sum_operation)\n",
    "        print(result)\n",
    "\n",
    "print(\"\\n\" * 2)\n",
    "print(\"Shape:\", shape, \"Device:\", device_name)\n",
    "print(\"Time taken:\", datetime.now() - startTime)\n",
    "\n",
    "print(\"\\n\" * 2)"
   ]
  },
  {
   "cell_type": "code",
   "execution_count": 5,
   "metadata": {},
   "outputs": [
    {
     "name": "stdout",
     "output_type": "stream",
     "text": [
      "Solving environment: done\n",
      "\n",
      "## Package Plan ##\n",
      "\n",
      "  environment location: /opt/conda\n",
      "\n",
      "  added / updated specs: \n",
      "    - pycocotools\n",
      "\n",
      "\n",
      "The following packages will be downloaded:\n",
      "\n",
      "    package                    |            build\n",
      "    ---------------------------|-----------------\n",
      "    openssl-1.1.1a             |       h7b6447c_0         5.0 MB\n",
      "    cython-0.29.2              |   py36he6710b0_0         2.2 MB\n",
      "    numpy-base-1.15.4          |   py36hde5b4d6_0         4.3 MB\n",
      "    conda-4.5.12               |           py36_0         1.0 MB\n",
      "    ncurses-6.1                |       he6710b0_1         958 KB\n",
      "    python-3.6.8               |       h0371630_0        34.4 MB\n",
      "    pycocotools-2.0.0          |   py36h470a237_0         343 KB  hcc\n",
      "    numpy-1.15.4               |   py36h7e9f1db_0          47 KB\n",
      "    mkl_fft-1.0.10             |   py36ha843d7b_0         170 KB\n",
      "    scipy-1.1.0                |   py36h7c811a0_2        17.7 MB\n",
      "    scikit-learn-0.20.2        |   py36hd81dba3_0         5.7 MB\n",
      "    libedit-3.1.20170329       |       h6b74fdf_2         172 KB\n",
      "    blas-1.0                   |              mkl           6 KB\n",
      "    sqlite-3.26.0              |       h7b6447c_0         1.9 MB\n",
      "    cryptography-2.4.2         |   py36h1ba5d50_0         618 KB\n",
      "    qt-5.9.7                   |       h5867ecd_1        85.9 MB\n",
      "    ca-certificates-2018.03.07 |                0         124 KB\n",
      "    mkl_random-1.0.2           |   py36hd81dba3_0         407 KB\n",
      "    certifi-2018.11.29         |           py36_0         146 KB\n",
      "    numexpr-2.6.9              |   py36h9e4a6bb_0         194 KB\n",
      "    ------------------------------------------------------------\n",
      "                                           Total:       161.3 MB\n",
      "\n",
      "The following NEW packages will be INSTALLED:\n",
      "\n",
      "    ca-certificates: 2018.03.07-0             \n",
      "    cython:          0.29.2-py36he6710b0_0    \n",
      "    mkl_fft:         1.0.10-py36ha843d7b_0    \n",
      "    mkl_random:      1.0.2-py36hd81dba3_0     \n",
      "    pycocotools:     2.0.0-py36h470a237_0  hcc\n",
      "\n",
      "The following packages will be UPDATED:\n",
      "\n",
      "    certifi:         2016.2.28-py36_0          --> 2018.11.29-py36_0      \n",
      "    conda:           4.5.11-py36_0             --> 4.5.12-py36_0          \n",
      "    cryptography:    1.8.1-py36_0              --> 2.4.2-py36h1ba5d50_0   \n",
      "    libedit:         3.1-heed3624_0            --> 3.1.20170329-h6b74fdf_2\n",
      "    ncurses:         6.0-h9df7e31_2            --> 6.1-he6710b0_1         \n",
      "    numexpr:         2.6.8-py36h2ffa06c_0      --> 2.6.9-py36h9e4a6bb_0   \n",
      "    numpy:           1.15.4-py36h99e49ec_0     --> 1.15.4-py36h7e9f1db_0  \n",
      "    numpy-base:      1.15.4-py36h2f8d375_0     --> 1.15.4-py36hde5b4d6_0  \n",
      "    openssl:         1.0.2j-0                  --> 1.1.1a-h7b6447c_0      \n",
      "    python:          3.6.3-hc9025b9_1          --> 3.6.8-h0371630_0       \n",
      "    qt:              5.9.6-h52aff34_0          --> 5.9.7-h5867ecd_1       \n",
      "    scikit-learn:    0.20.1-py36h22eb022_0     --> 0.20.2-py36hd81dba3_0  \n",
      "    scipy:           1.1.0-py36he2b7bc3_1      --> 1.1.0-py36h7c811a0_2   \n",
      "    sqlite:          3.23.1-he433501_0         --> 3.26.0-h7b6447c_0      \n",
      "\n",
      "The following packages will be DOWNGRADED:\n",
      "\n",
      "    blas:            1.0-openblas              --> 1.0-mkl                \n",
      "\n",
      "\n",
      "Downloading and Extracting Packages\n",
      "openssl-1.1.1a       | 5.0 MB    | ##################################### | 100% \n",
      "cython-0.29.2        | 2.2 MB    | ##################################### | 100% \n",
      "numpy-base-1.15.4    | 4.3 MB    | ##################################### | 100% \n",
      "conda-4.5.12         | 1.0 MB    | ##################################### | 100% \n",
      "ncurses-6.1          | 958 KB    | ##################################### | 100% \n",
      "python-3.6.8         | 34.4 MB   | ##################################### | 100% \n",
      "pycocotools-2.0.0    | 343 KB    | ##################################### | 100% \n",
      "numpy-1.15.4         | 47 KB     | ##################################### | 100% \n",
      "mkl_fft-1.0.10       | 170 KB    | ##################################### | 100% \n",
      "scipy-1.1.0          | 17.7 MB   | ##################################### | 100% \n",
      "scikit-learn-0.20.2  | 5.7 MB    | ##################################### | 100% \n",
      "libedit-3.1.20170329 | 172 KB    | ##################################### | 100% \n",
      "blas-1.0             | 6 KB      | ##################################### | 100% \n",
      "sqlite-3.26.0        | 1.9 MB    | ##################################### | 100% \n",
      "cryptography-2.4.2   | 618 KB    | ##################################### | 100% \n",
      "qt-5.9.7             | 85.9 MB   | ##################################### | 100% \n",
      "ca-certificates-2018 | 124 KB    | ##################################### | 100% \n",
      "mkl_random-1.0.2     | 407 KB    | ##################################### | 100% \n",
      "certifi-2018.11.29   | 146 KB    | ##################################### | 100% \n",
      "numexpr-2.6.9        | 194 KB    | ##################################### | 100% \n",
      "Preparing transaction: done\n",
      "Verifying transaction: done\n",
      "Executing transaction: done\n"
     ]
    }
   ],
   "source": [
    "!conda install -y -c hcc pycocotools"
   ]
  },
  {
   "cell_type": "code",
   "execution_count": 9,
   "metadata": {},
   "outputs": [
    {
     "name": "stdout",
     "output_type": "stream",
     "text": [
      "[[22. 28.]\n",
      " [49. 64.]]\n"
     ]
    }
   ],
   "source": [
    "# Creates a graph.\n",
    "with tf.device('/cpu:0'):\n",
    "  a = tf.constant([1.0, 2.0, 3.0, 4.0, 5.0, 6.0], shape=[2, 3], name='a')\n",
    "  b = tf.constant([1.0, 2.0, 3.0, 4.0, 5.0, 6.0], shape=[3, 2], name='b')\n",
    "c = tf.matmul(a, b)\n",
    "# Creates a session with log_device_placement set to True.\n",
    "sess = tf.Session(config=tf.ConfigProto(log_device_placement=True))\n",
    "# Runs the op.\n",
    "print(sess.run(c))\n"
   ]
  },
  {
   "cell_type": "code",
   "execution_count": 10,
   "metadata": {},
   "outputs": [
    {
     "name": "stdout",
     "output_type": "stream",
     "text": [
      "['/device:GPU:0']\n"
     ]
    }
   ],
   "source": [
    "from tensorflow.python.client import device_lib\n",
    "local_device_protos = device_lib.list_local_devices()\n",
    "devices = [x.name for x in local_device_protos if x.device_type == 'GPU']\n",
    "print(devices)"
   ]
  },
  {
   "cell_type": "code",
   "execution_count": 11,
   "metadata": {},
   "outputs": [],
   "source": [
    "import pycocotools"
   ]
  },
  {
   "cell_type": "code",
   "execution_count": 15,
   "metadata": {},
   "outputs": [],
   "source": [
    "from pycocotools.coco import COCO"
   ]
  },
  {
   "cell_type": "code",
   "execution_count": null,
   "metadata": {},
   "outputs": [],
   "source": []
  }
 ],
 "metadata": {
  "kernelspec": {
   "display_name": "Python 3",
   "language": "python",
   "name": "python3"
  },
  "language_info": {
   "codemirror_mode": {
    "name": "ipython",
    "version": 3
   },
   "file_extension": ".py",
   "mimetype": "text/x-python",
   "name": "python",
   "nbconvert_exporter": "python",
   "pygments_lexer": "ipython3",
   "version": "3.6.3"
  }
 },
 "nbformat": 4,
 "nbformat_minor": 2
}
